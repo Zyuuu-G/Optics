{
  "nbformat": 4,
  "nbformat_minor": 0,
  "metadata": {
    "colab": {
      "provenance": [],
      "authorship_tag": "ABX9TyODnXl1HsM2NFCgVJxicSZ3",
      "include_colab_link": true
    },
    "kernelspec": {
      "name": "python3",
      "display_name": "Python 3"
    },
    "language_info": {
      "name": "python"
    }
  },
  "cells": [
    {
      "cell_type": "markdown",
      "metadata": {
        "id": "view-in-github",
        "colab_type": "text"
      },
      "source": [
        "<a href=\"https://colab.research.google.com/github/Zyuuu-G/Optics/blob/main/OpticsWarmUp.ipynb\" target=\"_parent\"><img src=\"https://colab.research.google.com/assets/colab-badge.svg\" alt=\"Open In Colab\"/></a>"
      ]
    },
    {
      "cell_type": "markdown",
      "source": [
        "#Optics first coding\n",
        "\n",
        "###Ziyu\n",
        "###8/31/2022\n",
        "##Problem 1. Sloving polynomial\n",
        " $ax^2+bx+c=0$\n"
      ],
      "metadata": {
        "id": "tc14WFuW0MFQ"
      }
    },
    {
      "cell_type": "code",
      "execution_count": null,
      "metadata": {
        "colab": {
          "base_uri": "https://localhost:8080/"
        },
        "id": "117E5ZKUb0Zl",
        "outputId": "a7512046-d4fc-42a8-e8a5-795e6a2b5977"
      },
      "outputs": [
        {
          "output_type": "execute_result",
          "data": {
            "text/plain": [
              "[(-b + sqrt(-4*a*c + b**2))/(2*a), -(b + sqrt(-4*a*c + b**2))/(2*a)]"
            ]
          },
          "metadata": {},
          "execution_count": 16
        }
      ],
      "source": [
        "from sympy import*\n",
        "\n",
        "#import numpy as np\n",
        "#import pandas as pd\n",
        "#looks like I don't need numpy and panda for this\n",
        "\n",
        "\n",
        "\n",
        "x = symbols('x')  #define variables\n",
        "a = symbols('a')\n",
        "b = symbols('b')\n",
        "c = symbols('c')\n",
        "\n",
        "\n",
        "solve(a*x**2 +b*x + c, x)\n"
      ]
    },
    {
      "cell_type": "markdown",
      "source": [
        "Answer is correct"
      ],
      "metadata": {
        "id": "Af_YDaqTvzTn"
      }
    },
    {
      "cell_type": "markdown",
      "source": [
        "##Problem 2.   Graph  \n",
        "###$3Sin(2π5t+\\frac{π}{2})$ from $t=0$ to $t=1$"
      ],
      "metadata": {
        "id": "6ShrIxD80lAT"
      }
    },
    {
      "cell_type": "code",
      "source": [
        "import matplotlib.pyplot as plt\n",
        "\n",
        "x = np.linspace (0,1,120) #define x axis and \"resolution\"\n",
        "y = np.sin(2*np.pi*5*x+np.pi/2)\n",
        "plt.plot(x,y,'C')   #graph, solid line\n",
        "plt.grid()\n",
        "plt.title('Problem 2.')\n",
        "plt.xlabel('t')\n",
        "plt.ylabel('y')\n",
        "plt.show()"
      ],
      "metadata": {
        "colab": {
          "base_uri": "https://localhost:8080/",
          "height": 295
        },
        "id": "lzCKt0wpeQnL",
        "outputId": "204243c5-bd41-4536-831f-443fe98bfbc3"
      },
      "execution_count": null,
      "outputs": [
        {
          "output_type": "display_data",
          "data": {
            "text/plain": [
              "<Figure size 432x288 with 1 Axes>"
            ],
            "image/png": "[encoded data removed]"
          },
          "metadata": {
            "needs_background": "light"
          }
        }
      ]
    },
    {
      "cell_type": "markdown",
      "source": [
        "expected periodic motion trace"
      ],
      "metadata": {
        "id": "V3Jv9vqswALs"
      }
    },
    {
      "cell_type": "markdown",
      "source": [
        "##problem3.  Mutiply Matrixs"
      ],
      "metadata": {
        "id": "xr1Boxcv0Ddf"
      }
    },
    {
      "cell_type": "code",
      "source": [
        "import numpy as np\n",
        "import pandas as pd\n",
        "\n",
        "x = np.array([(1,2),(3,4)]) #define three matrixs as arrays\n",
        "y = np.array([(2,2),(4,4)])\n",
        "z = np.array([(3,5),(3,5)])\n",
        "#print(\"M1= \",x)\n",
        "#print(\"M2= \",y)\n",
        "#print(\"M3= \",z)\n",
        "\n",
        "xy = np.array([(0,0),(0,0)]) #define\n",
        "for i in range(len(x)): # switch xy[num] rolls\n",
        "  for j in range(len(y[0])):  # switch xy[num][num] colums\n",
        "    for k in range(len(y)): # adding two multiplications\n",
        "     xy[i][j] += x[i][k] * y[k][j]\n",
        "\n",
        "xyz = np.array([(0,0),(0,0)]) #repeat the step to multiplty the second matrix\n",
        "for i in range(len(xy)):\n",
        "  for j in range(len(z[0])):\n",
        "    for k in range(len(z)):\n",
        "     xyz[i][j] += xy[i][k] * z[k][j]\n",
        "print(\"the result is \",xyz)"
      ],
      "metadata": {
        "colab": {
          "base_uri": "https://localhost:8080/"
        },
        "id": "s5hk68Uhhscm",
        "outputId": "e9f37098-0a35-4413-ff7d-c0a03054406e"
      },
      "execution_count": null,
      "outputs": [
        {
          "output_type": "stream",
          "name": "stdout",
          "text": [
            "the result is  [[ 60 100]\n",
            " [132 220]]\n"
          ]
        }
      ]
    },
    {
      "cell_type": "markdown",
      "source": [
        "##Problem 4. Multiply same matrixs in different orders"
      ],
      "metadata": {
        "id": "jDc9coN200ME"
      }
    },
    {
      "cell_type": "code",
      "source": [
        "# same matrix but y*z*x instead\n",
        "# swithing orders is all needed to be done\n",
        "yz = np.array([(0,0),(0,0)])\n",
        "for i in range(len(y)):\n",
        "  for j in range(len(z[0])):\n",
        "    for k in range(len(z)):\n",
        "     yz[i][j] += xy[i][k] * z[k][j]\n",
        "\n",
        "yzx = np.array([(0,0),(0,0)])\n",
        "for i in range(2): #len(yz)):       simplyfied since wnagted \"range\" is only 0,1\n",
        "  for j in range(2): #len(x[0])):\n",
        "    for k in range(2): #len(x)):\n",
        "     yzx[i][j] += yz[i][k] * x[k][j]\n",
        "print(\"the result is \",yzx)"
      ],
      "metadata": {
        "colab": {
          "base_uri": "https://localhost:8080/"
        },
        "id": "q4gYBhGM0593",
        "outputId": "2d07b8ee-fe55-445f-e21f-8469e028ddd4"
      },
      "execution_count": null,
      "outputs": [
        {
          "output_type": "stream",
          "name": "stdout",
          "text": [
            "the result is  [[ 360  520]\n",
            " [ 792 1144]]\n"
          ]
        }
      ]
    }
  ]
}