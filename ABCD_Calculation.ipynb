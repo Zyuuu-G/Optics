{
  "nbformat": 4,
  "nbformat_minor": 0,
  "metadata": {
    "colab": {
      "provenance": [],
      "authorship_tag": "ABX9TyN+yi7lFeXsUYisCk0c7nZ9",
      "include_colab_link": true
    },
    "kernelspec": {
      "name": "python3",
      "display_name": "Python 3"
    },
    "language_info": {
      "name": "python"
    }
  },
  "cells": [
    {
      "cell_type": "markdown",
      "metadata": {
        "id": "view-in-github",
        "colab_type": "text"
      },
      "source": [
        "<a href=\"https://colab.research.google.com/github/Zyuuu-G/Optics/blob/main/ABCD_Calculation.ipynb\" target=\"_parent\"><img src=\"https://colab.research.google.com/assets/colab-badge.svg\" alt=\"Open In Colab\"/></a>"
      ]
    },
    {
      "cell_type": "markdown",
      "source": [
        "#ABCD Calculation"
      ],
      "metadata": {
        "id": "k8tOCLrwq53v"
      }
    },
    {
      "cell_type": "code",
      "execution_count": null,
      "metadata": {
        "id": "Pea6cp0kq48I"
      },
      "outputs": [],
      "source": [
        "from sympy import *\n",
        "import numpy as np\n",
        "\n",
        "\n",
        "d, f, R, n1, n2 = symbols('d f R n1 n2',real=True)\n",
        "\n",
        "# define the basic abcd matrices for the different types of optics\n",
        "\n",
        "# propagation matrix, propagate a distance 'd'\n",
        "prop=Matrix([[1,d],[0,1]])\n",
        "\n",
        "# thin lens of focal length 'f'\n",
        "lens=Matrix([[1,0],[-1/f,1]])\n",
        "\n",
        "# spherical mirror with radius of curvature 'R'\n",
        "mirror=Matrix([[1,0],[2/R,1]])\n",
        "\n",
        "# plane surface interface going from n1 -> n2\n",
        "surface=Matrix([[1,0],[0,n1/n2]])\n",
        "\n",
        "# spherical surface interface going from n1 -> n2\n",
        "sph_surface=Matrix([[1,0],[-(n2-n1)/(n2*R),n1/n2]])\n",
        "\n",
        "# plane mirror\n",
        "plane_mirror = Matrix([[1,0],[0,1]])"
      ]
    },
    {
      "cell_type": "code",
      "source": [
        "y1i, y1f, theta1i, theta1f = symbols('y_1i y_1f theta_1i theta_1f',real=True) #beam1\n",
        "y2i, y2f, theta2i, theta2f = symbols('y_2i y_2f theta_2i theta_2f',real=True) #beam2\n",
        "\n",
        "beam1i = Matrix([[y1i],[theta1i]])\n",
        "beam1f = Matrix([[y1f],[theta1f]])\n",
        "display(beam1i,'',beam1f)"
      ],
      "metadata": {
        "colab": {
          "base_uri": "https://localhost:8080/",
          "height": 117
        },
        "id": "aZugeC4ctohR",
        "outputId": "7efa8406-07e5-4986-9c5e-6992e73930a6"
      },
      "execution_count": null,
      "outputs": [
        {
          "output_type": "display_data",
          "data": {
            "text/plain": [
              "Matrix([\n",
              "[    y_1i],\n",
              "[theta_1i]])"
            ],
            "text/latex": "$\\displaystyle \\left[\\begin{matrix}y_{1i}\\\\\\theta_{1i}\\end{matrix}\\right]$"
          },
          "metadata": {}
        },
        {
          "output_type": "display_data",
          "data": {
            "text/plain": [
              "''"
            ],
            "application/vnd.google.colaboratory.intrinsic+json": {
              "type": "string"
            }
          },
          "metadata": {}
        },
        {
          "output_type": "display_data",
          "data": {
            "text/plain": [
              "Matrix([\n",
              "[    y_1f],\n",
              "[theta_1f]])"
            ],
            "text/latex": "$\\displaystyle \\left[\\begin{matrix}y_{1f}\\\\\\theta_{1f}\\end{matrix}\\right]$"
          },
          "metadata": {}
        }
      ]
    },
    {
      "cell_type": "code",
      "source": [
        "d1, d2 = symbols('d_1 d_2')\n",
        "abcd = prop.subs(d,d2)*mirror*prop.subs(d,d1)\n",
        "\n",
        "beam1f = abcd*beam1i\n",
        "display(beam1f)"
      ],
      "metadata": {
        "colab": {
          "base_uri": "https://localhost:8080/",
          "height": 60
        },
        "id": "6O2iswyRwpnN",
        "outputId": "faa2c105-3645-4475-a11c-cb1bfc4f5070"
      },
      "execution_count": null,
      "outputs": [
        {
          "output_type": "display_data",
          "data": {
            "text/plain": [
              "Matrix([\n",
              "[theta_1i*(d_1*(1 + 2*d_2/R) + d_2) + y_1i*(1 + 2*d_2/R)],\n",
              "[                      theta_1i*(1 + 2*d_1/R) + 2*y_1i/R]])"
            ],
            "text/latex": "$\\displaystyle \\left[\\begin{matrix}\\theta_{1i} \\left(d_{1} \\left(1 + \\frac{2 d_{2}}{R}\\right) + d_{2}\\right) + y_{1i} \\left(1 + \\frac{2 d_{2}}{R}\\right)\\\\\\theta_{1i} \\left(1 + \\frac{2 d_{1}}{R}\\right) + \\frac{2 y_{1i}}{R}\\end{matrix}\\right]$"
          },
          "metadata": {}
        }
      ]
    },
    {
      "cell_type": "code",
      "source": [
        "plot(beam1f[0].subs([(R,-2000),(d1,200),(y1i,25),(theta1i,0)]),                 #beam1f\n",
        "     beam1f[0].subs([(R,-2000),(d1,200),(y1i,-25),(theta1i,0)]),                #beam2f since the only difference bw 1&2 initial is \"y initial\"\n",
        "     beam1f[0].subs([(R,-2000),(d1,200),(y1i,25),(theta1i,.00033)]),            #beam1f with error\n",
        "     (d2,950,1050))"
      ],
      "metadata": {
        "colab": {
          "base_uri": "https://localhost:8080/",
          "height": 315
        },
        "id": "DOQ7Vlg1x3Wt",
        "outputId": "a75ef8bc-6ba6-409f-a1f8-67729ea36272"
      },
      "execution_count": null,
      "outputs": [
        {
          "output_type": "display_data",
          "data": {
            "text/plain": [
              "<Figure size 432x288 with 1 Axes>"
            ],
            "image/png": "[encoded data removed]"
          },
          "metadata": {
            "needs_background": "light"
          }
        },
        {
          "output_type": "execute_result",
          "data": {
            "text/plain": [
              "<sympy.plotting.plot.Plot at 0x7fbb7c046650>"
            ]
          },
          "metadata": {},
          "execution_count": 15
        }
      ]
    },
    {
      "cell_type": "code",
      "source": [
        "eq = beam1f[0].subs([(R,-2000),(d1,200),(y1i,25),(theta1i,0)])-beam1f[0].subs([(R,-2000),(d1,200),(y1i,-25),(theta1i,0)])\n",
        "display(eq)\n",
        "sol1 = solve(eq,d2)\n",
        "display(sol1)"
      ],
      "metadata": {
        "colab": {
          "base_uri": "https://localhost:8080/",
          "height": 70
        },
        "id": "uVEFNBDMyVv5",
        "outputId": "71267352-753e-481f-b94a-907edaa10d2a"
      },
      "execution_count": null,
      "outputs": [
        {
          "output_type": "display_data",
          "data": {
            "text/plain": [
              "50 - d_2/20"
            ],
            "text/latex": "$\\displaystyle 50 - \\frac{d_{2}}{20}$"
          },
          "metadata": {}
        },
        {
          "output_type": "display_data",
          "data": {
            "text/plain": [
              "[1000]"
            ]
          },
          "metadata": {}
        }
      ]
    },
    {
      "cell_type": "code",
      "source": [
        "eq = beam1f[0].subs([(R,-2000),(d1,200),(y1i,25),(theta1i,0.000333)])-beam1f[0].subs([(R,-2000),(d1,200),(y1i,-25),(theta1i,0)])\n",
        "display(eq)\n",
        "sol1 = solve(eq,d2)\n",
        "display(sol1)"
      ],
      "metadata": {
        "colab": {
          "base_uri": "https://localhost:8080/",
          "height": 57
        },
        "id": "Flt4HNxj06sP",
        "outputId": "07104f15-9ff1-4cc6-82a4-7bd121bc51a6"
      },
      "execution_count": null,
      "outputs": [
        {
          "output_type": "display_data",
          "data": {
            "text/plain": [
              "50.0666 - 0.0497336*d_2"
            ],
            "text/latex": "$\\displaystyle 50.0666 - 0.0497336 d_{2}$"
          },
          "metadata": {}
        },
        {
          "output_type": "display_data",
          "data": {
            "text/plain": [
              "[1006.69567455402]"
            ]
          },
          "metadata": {}
        }
      ]
    },
    {
      "cell_type": "markdown",
      "source": [
        "for hw 1 problem3"
      ],
      "metadata": {
        "id": "eZvVgvYxNZJ3"
      }
    },
    {
      "cell_type": "code",
      "source": [
        "ABCD = sph_surface*prop*sph_surface     #using pre difined matrixs\n",
        "display(ABCD,' ',' ')\n",
        "\n",
        "n_air = 1\n",
        "n_water = 1.33\n",
        "n_glass = 1.5\n",
        "ABCD_air = sph_surface.subs([(n1,n_air),(n2,n_glass)])*prop*sph_surface.subs([(n1,n_air),(n2,n_glass)])\n",
        "\n",
        "ABCD_water = sph_surface.subs([(n1,n_water),(n2,n_glass)])*prop*sph_surface.subs([(n1,n_water),(n2,n_glass)])\n",
        "\n",
        "display(ABCD_air)\n",
        "display('','',ABCD_water)\n",
        "\n",
        "#Eq = ABCD_air.subs(R,250)        #maybe look for a relationship between R and d?\n",
        "#Sol = solve(Eq,d)\n",
        "#display('','',Sol)"
      ],
      "metadata": {
        "colab": {
          "base_uri": "https://localhost:8080/",
          "height": 253
        },
        "id": "oERyeTXg1T6N",
        "outputId": "5238760a-e3d7-4654-a45b-893f99529d48"
      },
      "execution_count": null,
      "outputs": [
        {
          "output_type": "display_data",
          "data": {
            "text/plain": [
              "Matrix([\n",
              "[                                          1 + d*(n1 - n2)/(R*n2),                            d*n1/n2],\n",
              "[(n1 - n2)*(n1/n2 + d*(n1 - n2)/(R*n2))/(R*n2) + (n1 - n2)/(R*n2), n1*(n1/n2 + d*(n1 - n2)/(R*n2))/n2]])"
            ],
            "text/latex": "$\\displaystyle \\left[\\begin{matrix}1 + \\frac{d \\left(n_{1} - n_{2}\\right)}{R n_{2}} & \\frac{d n_{1}}{n_{2}}\\\\\\frac{\\left(n_{1} - n_{2}\\right) \\left(\\frac{n_{1}}{n_{2}} + \\frac{d \\left(n_{1} - n_{2}\\right)}{R n_{2}}\\right)}{R n_{2}} + \\frac{n_{1} - n_{2}}{R n_{2}} & \\frac{n_{1} \\left(\\frac{n_{1}}{n_{2}} + \\frac{d \\left(n_{1} - n_{2}\\right)}{R n_{2}}\\right)}{n_{2}}\\end{matrix}\\right]$"
          },
          "metadata": {}
        },
        {
          "output_type": "display_data",
          "data": {
            "text/plain": [
              "' '"
            ],
            "application/vnd.google.colaboratory.intrinsic+json": {
              "type": "string"
            }
          },
          "metadata": {}
        },
        {
          "output_type": "display_data",
          "data": {
            "text/plain": [
              "' '"
            ],
            "application/vnd.google.colaboratory.intrinsic+json": {
              "type": "string"
            }
          },
          "metadata": {}
        },
        {
          "output_type": "display_data",
          "data": {
            "text/plain": [
              "Matrix([\n",
              "[                                                             1 - 0.333333333333333*d/R,                       0.666666666666667*d],\n",
              "[-0.333333333333333*(0.666666666666667 - 0.333333333333333*d/R)/R - 0.333333333333333/R, 0.444444444444444 - 0.222222222222222*d/R]])"
            ],
            "text/latex": "$\\displaystyle \\left[\\begin{matrix}1 - \\frac{0.333333333333333 d}{R} & 0.666666666666667 d\\\\- \\frac{0.333333333333333 \\left(0.666666666666667 - \\frac{0.333333333333333 d}{R}\\right)}{R} - \\frac{0.333333333333333}{R} & 0.444444444444444 - \\frac{0.222222222222222 d}{R}\\end{matrix}\\right]$"
          },
          "metadata": {}
        },
        {
          "output_type": "display_data",
          "data": {
            "text/plain": [
              "''"
            ],
            "application/vnd.google.colaboratory.intrinsic+json": {
              "type": "string"
            }
          },
          "metadata": {}
        },
        {
          "output_type": "display_data",
          "data": {
            "text/plain": [
              "''"
            ],
            "application/vnd.google.colaboratory.intrinsic+json": {
              "type": "string"
            }
          },
          "metadata": {}
        },
        {
          "output_type": "display_data",
          "data": {
            "text/plain": [
              "Matrix([\n",
              "[                                                             1 - 0.113333333333333*d/R,                       0.886666666666667*d],\n",
              "[-0.113333333333333*(0.886666666666667 - 0.113333333333333*d/R)/R - 0.113333333333333/R, 0.786177777777778 - 0.100488888888889*d/R]])"
            ],
            "text/latex": "$\\displaystyle \\left[\\begin{matrix}1 - \\frac{0.113333333333333 d}{R} & 0.886666666666667 d\\\\- \\frac{0.113333333333333 \\left(0.886666666666667 - \\frac{0.113333333333333 d}{R}\\right)}{R} - \\frac{0.113333333333333}{R} & 0.786177777777778 - \\frac{0.100488888888889 d}{R}\\end{matrix}\\right]$"
          },
          "metadata": {}
        }
      ]
    },
    {
      "cell_type": "markdown",
      "source": [
        "For hw 2 Peoblem 5"
      ],
      "metadata": {
        "id": "PHP8pB_FH1N4"
      }
    },
    {
      "cell_type": "code",
      "source": [
        "d_lens = 3.5\n",
        "R_lens = 51.5\n",
        "right = surface.subs([(n1,n_glass),(n2,n_air)])*prop.subs(d,d_lens)*sph_surface.subs([(n1,n_air),(n2,n_glass),(R,R_lens)])\n",
        "left = sph_surface.subs([(n1,n_glass),(n2,n_air),(R,-R_lens)])*prop.subs(d,d_lens)*surface.subs([(n1,n_air),(n2,n_glass)])\n",
        "display(\"left\",left)\n",
        "display(\"right\",right)\n"
      ],
      "metadata": {
        "colab": {
          "base_uri": "https://localhost:8080/",
          "height": 135
        },
        "id": "kARAo3nRH0oQ",
        "outputId": "f74737ac-93bc-4ac9-8781-f0d151999754"
      },
      "execution_count": null,
      "outputs": [
        {
          "output_type": "display_data",
          "data": {
            "text/plain": [
              "'left'"
            ],
            "application/vnd.google.colaboratory.intrinsic+json": {
              "type": "string"
            }
          },
          "metadata": {}
        },
        {
          "output_type": "display_data",
          "data": {
            "text/plain": [
              "Matrix([\n",
              "[                   1,  2.33333333333333],\n",
              "[-0.00970873786407767, 0.977346278317152]])"
            ],
            "text/latex": "$\\displaystyle \\left[\\begin{matrix}1 & 2.33333333333333\\\\-0.00970873786407767 & 0.977346278317152\\end{matrix}\\right]$"
          },
          "metadata": {}
        },
        {
          "output_type": "display_data",
          "data": {
            "text/plain": [
              "'right'"
            ],
            "application/vnd.google.colaboratory.intrinsic+json": {
              "type": "string"
            }
          },
          "metadata": {}
        },
        {
          "output_type": "display_data",
          "data": {
            "text/plain": [
              "Matrix([\n",
              "[   0.977346278317152, 2.33333333333333],\n",
              "[-0.00970873786407767,              1.0]])"
            ],
            "text/latex": "$\\displaystyle \\left[\\begin{matrix}0.977346278317152 & 2.33333333333333\\\\-0.00970873786407767 & 1.0\\end{matrix}\\right]$"
          },
          "metadata": {}
        }
      ]
    },
    {
      "cell_type": "code",
      "source": [
        "beamf = prop.subs(d,d2)*left*prop.subs(d,d1)*beam1i.subs([(y1i,1),(theta1i,0)]) # parallel initial beam come in\n",
        "display(beamf)\n",
        "foc5 = solve(beamf[0],d2)    # get focal length at y = 0\n",
        "display(foc5)\n",
        "\n",
        "\n",
        "# magnification\n",
        "beamf_2 = prop.subs(d,d2)*left*prop.subs(d,d1)*beam1i.subs([(y1i,1),(theta1i,0.5)]) # same spot(y=1,d=d1), diff angle, where they cross is the image and the height magnitude of yf/yi is mag\n",
        "display(beamf_2)\n",
        "dis5 = solve(beamf[0]-beamf_2[0],d2)  # distance at focus\n",
        "display(dis5)\n",
        "plot(dis5[0],(d1,0,200),ylim=(0,1000))\n",
        "\n",
        "mag5 = beamf[0].subs(d2,dis5[0])    # plug back into first beam get y\n",
        "mag52 = beamf_2[0].subs(d2,dis5[0]) # plug back into second beam\n",
        "display('mag',mag5,mag52)\n",
        "\n",
        "\n",
        "abcd5 = prop.subs(d,d2)*left*prop.subs(d,d1)\n",
        "display(abcd5)\n",
        "b0 = solve(abcd5[0,1],d2) # d2 needed to make B zero\n",
        "mag5A = abcd5[0,0].subs(d2,b0[0])\n",
        "print('b0')\n",
        "display(b0)\n",
        "print('MAG')\n",
        "display(mag5A)\n",
        "\n",
        "plot(mag5A,(d1,0,200),ylim=(-50,50),title='mag(A) vs d1') # calculated using A\n",
        "plot(mag5,(d1,0,200),ylim=(-50,50),title='mag vs d1')     # calculated using first beam(parallel)\n",
        "plot(mag52,(d1,0,200),ylim=(-50,50),title='mag(2) vs d1')  # second beam\n",
        "### the last one doesn't agree with the first two, who's correct ?"
      ],
      "metadata": {
        "colab": {
          "base_uri": "https://localhost:8080/",
          "height": 1000
        },
        "id": "jUzhZrapRWRF",
        "outputId": "f3178d59-1385-494f-d359-8704b328bd22"
      },
      "execution_count": null,
      "outputs": [
        {
          "output_type": "display_data",
          "data": {
            "text/plain": [
              "Matrix([\n",
              "[1 - 0.00970873786407767*d_2],\n",
              "[       -0.00970873786407767]])"
            ],
            "text/latex": "$\\displaystyle \\left[\\begin{matrix}1 - 0.00970873786407767 d_{2}\\\\-0.00970873786407767\\end{matrix}\\right]$"
          },
          "metadata": {}
        },
        {
          "output_type": "display_data",
          "data": {
            "text/plain": [
              "[103.000000000000]"
            ]
          },
          "metadata": {}
        },
        {
          "output_type": "display_data",
          "data": {
            "text/plain": [
              "Matrix([\n",
              "[0.5*d_1*(1 - 0.00970873786407767*d_2) + 0.478964401294498*d_2 + 2.16666666666667],\n",
              "[                                     0.478964401294498 - 0.00485436893203883*d_1]])"
            ],
            "text/latex": "$\\displaystyle \\left[\\begin{matrix}0.5 d_{1} \\left(1 - 0.00970873786407767 d_{2}\\right) + 0.478964401294498 d_{2} + 2.16666666666667\\\\0.478964401294498 - 0.00485436893203883 d_{1}\\end{matrix}\\right]$"
          },
          "metadata": {}
        },
        {
          "output_type": "display_data",
          "data": {
            "text/plain": [
              "[103.0*(3.0*d_1 + 7.0)/(3.0*d_1 - 302.0)]"
            ]
          },
          "metadata": {}
        },
        {
          "output_type": "display_data",
          "data": {
            "text/plain": [
              "<Figure size 432x288 with 1 Axes>"
            ],
            "image/png": "[encoded data removed]"
          },
          "metadata": {
            "needs_background": "light"
          }
        },
        {
          "output_type": "display_data",
          "data": {
            "text/plain": [
              "'mag'"
            ],
            "application/vnd.google.colaboratory.intrinsic+json": {
              "type": "string"
            }
          },
          "metadata": {}
        },
        {
          "output_type": "display_data",
          "data": {
            "text/plain": [
              "1 - 1.0*(3.0*d_1 + 7.0)/(3.0*d_1 - 302.0)"
            ],
            "text/latex": "$\\displaystyle 1 - \\frac{1.0 \\left(3.0 d_{1} + 7.0\\right)}{3.0 d_{1} - 302.0}$"
          },
          "metadata": {}
        },
        {
          "output_type": "display_data",
          "data": {
            "text/plain": [
              "0.5*d_1*(1 - 1.0*(3.0*d_1 + 7.0)/(3.0*d_1 - 302.0)) + 2.16666666666667 + 49.3333333333333*(3.0*d_1 + 7.0)/(3.0*d_1 - 302.0)"
            ],
            "text/latex": "$\\displaystyle 0.5 d_{1} \\left(1 - \\frac{1.0 \\left(3.0 d_{1} + 7.0\\right)}{3.0 d_{1} - 302.0}\\right) + 2.16666666666667 + \\frac{49.3333333333333 \\left(3.0 d_{1} + 7.0\\right)}{3.0 d_{1} - 302.0}$"
          },
          "metadata": {}
        },
        {
          "output_type": "display_data",
          "data": {
            "text/plain": [
              "Matrix([\n",
              "[1 - 0.00970873786407767*d_2, d_1*(1 - 0.00970873786407767*d_2) + 0.977346278317152*d_2 + 2.33333333333333],\n",
              "[       -0.00970873786407767,                                  0.977346278317152 - 0.00970873786407767*d_1]])"
            ],
            "text/latex": "$\\displaystyle \\left[\\begin{matrix}1 - 0.00970873786407767 d_{2} & d_{1} \\left(1 - 0.00970873786407767 d_{2}\\right) + 0.977346278317152 d_{2} + 2.33333333333333\\\\-0.00970873786407767 & 0.977346278317152 - 0.00970873786407767 d_{1}\\end{matrix}\\right]$"
          },
          "metadata": {}
        },
        {
          "output_type": "stream",
          "name": "stdout",
          "text": [
            "b0\n"
          ]
        },
        {
          "output_type": "display_data",
          "data": {
            "text/plain": [
              "[103.0*(3.0*d_1 + 7.0)/(3.0*d_1 - 302.0)]"
            ]
          },
          "metadata": {}
        },
        {
          "output_type": "stream",
          "name": "stdout",
          "text": [
            "MAG\n"
          ]
        },
        {
          "output_type": "display_data",
          "data": {
            "text/plain": [
              "1 - 1.0*(3.0*d_1 + 7.0)/(3.0*d_1 - 302.0)"
            ],
            "text/latex": "$\\displaystyle 1 - \\frac{1.0 \\left(3.0 d_{1} + 7.0\\right)}{3.0 d_{1} - 302.0}$"
          },
          "metadata": {}
        },
        {
          "output_type": "display_data",
          "data": {
            "text/plain": [
              "<Figure size 432x288 with 1 Axes>"
            ],
            "image/png": "[encoded data removed]"
          },
          "metadata": {
            "needs_background": "light"
          }
        },
        {
          "output_type": "display_data",
          "data": {
            "text/plain": [
              "<Figure size 432x288 with 1 Axes>"
            ],
            "image/png": "[encoded data removed]"
          },
          "metadata": {
            "needs_background": "light"
          }
        },
        {
          "output_type": "display_data",
          "data": {
            "text/plain": [
              "<Figure size 432x288 with 1 Axes>"
            ],
            "image/png": "[encoded data removed]"
          },
          "metadata": {
            "needs_background": "light"
          }
        },
        {
          "output_type": "execute_result",
          "data": {
            "text/plain": [
              "<sympy.plotting.plot.Plot at 0x7f01b2084f90>"
            ]
          },
          "metadata": {},
          "execution_count": 47
        }
      ]
    },
    {
      "cell_type": "code",
      "source": [
        "display(mag5.subs(d1,200))\n",
        "display(mag52.subs(d1,200))\n",
        "display(mag5A.subs(d1,200))"
      ],
      "metadata": {
        "id": "nKDHoQXwG-hk",
        "outputId": "eea43550-3028-4d34-ad05-ef46bffb4658",
        "colab": {
          "base_uri": "https://localhost:8080/",
          "height": 78
        }
      },
      "execution_count": null,
      "outputs": [
        {
          "output_type": "display_data",
          "data": {
            "text/plain": [
              "-1.03691275167785"
            ],
            "text/latex": "$\\displaystyle -1.03691275167785$"
          },
          "metadata": {}
        },
        {
          "output_type": "display_data",
          "data": {
            "text/plain": [
              "-1.03691275167783"
            ],
            "text/latex": "$\\displaystyle -1.03691275167783$"
          },
          "metadata": {}
        },
        {
          "output_type": "display_data",
          "data": {
            "text/plain": [
              "-1.03691275167785"
            ],
            "text/latex": "$\\displaystyle -1.03691275167785$"
          },
          "metadata": {}
        }
      ]
    },
    {
      "cell_type": "code",
      "source": [
        "beamf = prop.subs(d,d2)*right*prop.subs(d,d1)##*beam1i.subs([(y1i,1),(theta1i,0)])\n",
        "display(beamf)\n",
        "ans = solve(beamf[0,1],d2)\n",
        "an = prop.subs(d,-103)*left*prop.subs(d,d1)\n",
        "display(ans,an)\n",
        "print(ans[0].subs(d1,150))\n",
        "\n",
        "print(beamf[0,0].subs(d2,ans[0].subs(d1,150)))"
      ],
      "metadata": {
        "colab": {
          "base_uri": "https://localhost:8080/",
          "height": 152
        },
        "id": "u3KAERq8W3bY",
        "outputId": "c1e5890c-faf8-4223-cea4-718d1b2cb86a"
      },
      "execution_count": null,
      "outputs": [
        {
          "output_type": "display_data",
          "data": {
            "text/plain": [
              "Matrix([\n",
              "[0.977346278317152 - 0.00970873786407767*d_2, d_1*(0.977346278317152 - 0.00970873786407767*d_2) + 1.0*d_2 + 2.33333333333333],\n",
              "[                       -0.00970873786407767,                                                  1.0 - 0.00970873786407767*d_1]])"
            ],
            "text/latex": "$\\displaystyle \\left[\\begin{matrix}0.977346278317152 - 0.00970873786407767 d_{2} & d_{1} \\left(0.977346278317152 - 0.00970873786407767 d_{2}\\right) + 1.0 d_{2} + 2.33333333333333\\\\-0.00970873786407767 & 1.0 - 0.00970873786407767 d_{1}\\end{matrix}\\right]$"
          },
          "metadata": {}
        },
        {
          "output_type": "display_data",
          "data": {
            "text/plain": [
              "[0.333333333333333*(302.0*d_1 + 721.0)/(d_1 - 103.0)]"
            ]
          },
          "metadata": {}
        },
        {
          "output_type": "display_data",
          "data": {
            "text/plain": [
              "Matrix([\n",
              "[                 2.0,                  2.0*d_1 - 98.3333333333333],\n",
              "[-0.00970873786407767, 0.977346278317152 - 0.00970873786407767*d_1]])"
            ],
            "text/latex": "$\\displaystyle \\left[\\begin{matrix}2.0 & 2.0 d_{1} - 98.3333333333333\\\\-0.00970873786407767 & 0.977346278317152 - 0.00970873786407767 d_{1}\\end{matrix}\\right]$"
          },
          "metadata": {}
        },
        {
          "output_type": "stream",
          "name": "stdout",
          "text": [
            "326.390070921986\n",
            "-2.19148936170213\n"
          ]
        }
      ]
    },
    {
      "cell_type": "markdown",
      "source": [
        "For hw 2 problem 7"
      ],
      "metadata": {
        "id": "WCpmrE7d-m_K"
      }
    },
    {
      "cell_type": "code",
      "source": [
        "f1 = 200\n",
        "f2 = -100\n",
        "f3 = 25\n",
        "d0 = 10000\n",
        "d1, d2 = symbols('d1,d2', real=true)\n",
        "d3 = 30\n",
        "ABCD_7 = prop.subs(d,d0)*lens.subs(f,f1)*prop.subs(d,d1)*lens.subs(f,f2)*prop.subs(d,d2)*lens.subs(f,f3)*prop.subs(d,d3)\n",
        "display(ABCD_7)\n",
        "\n",
        "d1d2 = solve(ABCD_7[0,1],d2)\n",
        "display(d1d2[0])\n",
        "p7 = plot(d1d2[0],(d1,105,500),show=False)\n",
        "p7.xlabel = 'd1 (mm)'\n",
        "p7.ylabel = 'd2 (mm)'\n",
        "p7.ylim = (0,500)\n",
        "p7.show()"
      ],
      "metadata": {
        "colab": {
          "base_uri": "https://localhost:8080/",
          "height": 396
        },
        "id": "DTvntEem-sSI",
        "outputId": "85b3b4ce-c799-4728-907b-945a35f3a0d4"
      },
      "execution_count": null,
      "outputs": [
        {
          "output_type": "display_data",
          "data": {
            "text/plain": [
              "Matrix([\n",
              "[    147*d1/100 - d2*(51 - 49*d1/100)/25 - 349,   -49*d1/10 - d2*(51 - 49*d1/100)/5 - 470],\n",
              "[3*d1/20000 - d2*(1/200 - d1/20000)/25 - 7/200, -d1/2000 - d2*(1/200 - d1/20000)/5 - 1/20]])"
            ],
            "text/latex": "$\\displaystyle \\left[\\begin{matrix}\\frac{147 d_{1}}{100} - \\frac{d_{2} \\left(51 - \\frac{49 d_{1}}{100}\\right)}{25} - 349 & - \\frac{49 d_{1}}{10} - \\frac{d_{2} \\left(51 - \\frac{49 d_{1}}{100}\\right)}{5} - 470\\\\\\frac{3 d_{1}}{20000} - \\frac{d_{2} \\left(\\frac{1}{200} - \\frac{d_{1}}{20000}\\right)}{25} - \\frac{7}{200} & - \\frac{d_{1}}{2000} - \\frac{d_{2} \\left(\\frac{1}{200} - \\frac{d_{1}}{20000}\\right)}{5} - \\frac{1}{20}\\end{matrix}\\right]$"
          },
          "metadata": {}
        },
        {
          "output_type": "display_data",
          "data": {
            "text/plain": [
              "50*(49*d1 + 4700)/(49*d1 - 5100)"
            ],
            "text/latex": "$\\displaystyle \\frac{50 \\left(49 d_{1} + 4700\\right)}{49 d_{1} - 5100}$"
          },
          "metadata": {}
        },
        {
          "output_type": "display_data",
          "data": {
            "text/plain": [
              "<Figure size 432x288 with 1 Axes>"
            ],
            "image/png": "[encoded data removed]"
          },
          "metadata": {
            "needs_background": "light"
          }
        }
      ]
    },
    {
      "cell_type": "markdown",
      "source": [
        "hw 2 problem 2.16\n"
      ],
      "metadata": {
        "id": "LSymgkEqGsp4"
      }
    },
    {
      "cell_type": "code",
      "source": [
        "# d is always positive\n",
        "ABCD_216 = mirror*prop.subs(d,-d)*plane_mirror*prop\n",
        "display(ABCD_216)"
      ],
      "metadata": {
        "colab": {
          "base_uri": "https://localhost:8080/",
          "height": 58
        },
        "id": "jn8DyePmGxgl",
        "outputId": "cac26031-e9e5-4918-b6af-11869f96d1e7"
      },
      "execution_count": null,
      "outputs": [
        {
          "output_type": "display_data",
          "data": {
            "text/plain": [
              "Matrix([\n",
              "[  1, 0],\n",
              "[2/R, 1]])"
            ],
            "text/latex": "$\\displaystyle \\left[\\begin{matrix}1 & 0\\\\\\frac{2}{R} & 1\\end{matrix}\\right]$"
          },
          "metadata": {}
        }
      ]
    },
    {
      "cell_type": "code",
      "source": [
        "R16 = -2*d1\n",
        "# matrix for 2 round trip\n",
        "abcd16 = mirror.subs(R,-R16)*prop.subs(d,d1)*plane_mirror*prop.subs(d,d1)*mirror.subs(R,R16)*prop.subs(d,d1)*plane_mirror*prop.subs(d,d1)\n",
        "display(abcd16)\n",
        "yf = abcd16*beam1i.subs([(y1i,5),(theta1i,3)])\n",
        "plot(yf[0],(d,0,5))\n",
        "display(yf)"
      ],
      "metadata": {
        "colab": {
          "base_uri": "https://localhost:8080/",
          "height": 381
        },
        "id": "LacUyxvb_8mQ",
        "outputId": "606fcf34-2599-4f31-a4d6-b98046d1b175"
      },
      "execution_count": null,
      "outputs": [
        {
          "output_type": "display_data",
          "data": {
            "text/plain": [
              "Matrix([\n",
              "[   -1,  0],\n",
              "[-2/d1, -1]])"
            ],
            "text/latex": "$\\displaystyle \\left[\\begin{matrix}-1 & 0\\\\- \\frac{2}{d_{1}} & -1\\end{matrix}\\right]$"
          },
          "metadata": {}
        },
        {
          "output_type": "display_data",
          "data": {
            "text/plain": [
              "<Figure size 432x288 with 1 Axes>"
            ],
            "image/png": "[encoded data removed]"
          },
          "metadata": {
            "needs_background": "light"
          }
        },
        {
          "output_type": "display_data",
          "data": {
            "text/plain": [
              "Matrix([\n",
              "[        -5],\n",
              "[-3 - 10/d1]])"
            ],
            "text/latex": "$\\displaystyle \\left[\\begin{matrix}-5\\\\-3 - \\frac{10}{d_{1}}\\end{matrix}\\right]$"
          },
          "metadata": {}
        }
      ]
    },
    {
      "cell_type": "markdown",
      "source": [
        "###hw2 problem 10\n"
      ],
      "metadata": {
        "id": "39yuliV5siLj"
      }
    },
    {
      "cell_type": "code",
      "source": [
        "# chromatic abberation\n",
        "n405 = 1.5302\n",
        "n780 = 1.5112\n",
        "nair = 1\n",
        "df,di,yi = symbols('df,di,yi')\n",
        "beam10i = Matrix([[yi],[0]])\n",
        "# left, from flat to curved surf\n",
        "left405 = prop.subs(d,df)*sph_surface.subs([(n1,n405),(n2,nair),(R,-R_lens)])*prop.subs(d,d_lens)*surface.subs([(n1,nair),(n2,n405)])*prop*beam10i\n",
        "left780 = prop.subs(d,df)*sph_surface.subs([(n1,n780),(n2,nair),(R,-R_lens)])*prop.subs(d,d_lens)*surface.subs([(n1,nair),(n2,n780)])*prop*beam10i\n",
        "display(\"left405\",left405,\"left780\",left780)\n",
        "\n",
        "L405 = solve(left405[0],df)\n",
        "L780 = solve(left780[0],df)\n",
        "display('chromatic abberation flat to curved (mm)',L405[0]-L780[0])"
      ],
      "metadata": {
        "colab": {
          "base_uri": "https://localhost:8080/",
          "height": 174
        },
        "id": "J6Xp5ekusoU9",
        "outputId": "4701d92f-3a17-4639-b51f-1ffb8019d7dc"
      },
      "execution_count": null,
      "outputs": [
        {
          "output_type": "display_data",
          "data": {
            "text/plain": [
              "'left405'"
            ],
            "application/vnd.google.colaboratory.intrinsic+json": {
              "type": "string"
            }
          },
          "metadata": {}
        },
        {
          "output_type": "display_data",
          "data": {
            "text/plain": [
              "Matrix([\n",
              "[yi*(1 - 0.010295145631068*df)],\n",
              "[        -0.010295145631068*yi]])"
            ],
            "text/latex": "$\\displaystyle \\left[\\begin{matrix}yi \\left(1 - 0.010295145631068 df\\right)\\\\- 0.010295145631068 yi\\end{matrix}\\right]$"
          },
          "metadata": {}
        },
        {
          "output_type": "display_data",
          "data": {
            "text/plain": [
              "'left780'"
            ],
            "application/vnd.google.colaboratory.intrinsic+json": {
              "type": "string"
            }
          },
          "metadata": {}
        },
        {
          "output_type": "display_data",
          "data": {
            "text/plain": [
              "Matrix([\n",
              "[yi*(1 - 0.00992621359223301*df)],\n",
              "[        -0.00992621359223301*yi]])"
            ],
            "text/latex": "$\\displaystyle \\left[\\begin{matrix}yi \\left(1 - 0.00992621359223301 df\\right)\\\\- 0.00992621359223301 yi\\end{matrix}\\right]$"
          },
          "metadata": {}
        },
        {
          "output_type": "display_data",
          "data": {
            "text/plain": [
              "'chromatic abberation flat to curved (mm)'"
            ],
            "application/vnd.google.colaboratory.intrinsic+json": {
              "type": "string"
            }
          },
          "metadata": {}
        },
        {
          "output_type": "display_data",
          "data": {
            "text/plain": [
              "-3.61019168365357"
            ],
            "text/latex": "$\\displaystyle -3.61019168365357$"
          },
          "metadata": {}
        }
      ]
    },
    {
      "cell_type": "code",
      "source": [
        "# right, from curved to falt surf\n",
        "right405 = prop.subs(d,df)*surface.subs([(n1,n405),(n2,n_air)])*prop.subs(d,d_lens)*sph_surface.subs([(n1,n_air),(n2,n405),(R,R_lens)])*prop*beam10i\n",
        "right780 = prop.subs(d,df)*surface.subs([(n1,n780),(n2,n_air)])*prop.subs(d,d_lens)*sph_surface.subs([(n1,n_air),(n2,n780),(R,R_lens)])*prop*beam10i\n",
        "display('right405',right405,'right780',right780)\n",
        "R405 = solve(right405[0],df)\n",
        "R780 = solve(right780[0],df)\n",
        "display('chromatic abberation curved to flat (mm)',R405[0]-R780[0])\n",
        "\n",
        "# - sign tells red focus further than blue, make sense !"
      ],
      "metadata": {
        "colab": {
          "base_uri": "https://localhost:8080/",
          "height": 174
        },
        "id": "Jk4ufNHU5ciO",
        "outputId": "f4c9c426-17c3-49ba-bab1-c71493ae1170"
      },
      "execution_count": null,
      "outputs": [
        {
          "output_type": "display_data",
          "data": {
            "text/plain": [
              "'right405'"
            ],
            "application/vnd.google.colaboratory.intrinsic+json": {
              "type": "string"
            }
          },
          "metadata": {}
        },
        {
          "output_type": "display_data",
          "data": {
            "text/plain": [
              "Matrix([\n",
              "[yi*(0.976452091420247 - 0.010295145631068*df)],\n",
              "[                        -0.010295145631068*yi]])"
            ],
            "text/latex": "$\\displaystyle \\left[\\begin{matrix}yi \\left(0.976452091420247 - 0.010295145631068 df\\right)\\\\- 0.010295145631068 yi\\end{matrix}\\right]$"
          },
          "metadata": {}
        },
        {
          "output_type": "display_data",
          "data": {
            "text/plain": [
              "'right780'"
            ],
            "application/vnd.google.colaboratory.intrinsic+json": {
              "type": "string"
            }
          },
          "metadata": {}
        },
        {
          "output_type": "display_data",
          "data": {
            "text/plain": [
              "Matrix([\n",
              "[yi*(0.977010489959757 - 0.00992621359223301*df)],\n",
              "[                        -0.00992621359223301*yi]])"
            ],
            "text/latex": "$\\displaystyle \\left[\\begin{matrix}yi \\left(0.977010489959757 - 0.00992621359223301 df\\right)\\\\- 0.00992621359223301 yi\\end{matrix}\\right]$"
          },
          "metadata": {}
        },
        {
          "output_type": "display_data",
          "data": {
            "text/plain": [
              "'chromatic abberation curved to flat (mm)'"
            ],
            "application/vnd.google.colaboratory.intrinsic+json": {
              "type": "string"
            }
          },
          "metadata": {}
        },
        {
          "output_type": "display_data",
          "data": {
            "text/plain": [
              "-3.58143415886883"
            ],
            "text/latex": "$\\displaystyle -3.58143415886883$"
          },
          "metadata": {}
        }
      ]
    }
  ]
}